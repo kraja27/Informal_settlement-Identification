{
 "cells": [
  {
   "cell_type": "markdown",
   "metadata": {},
   "source": [
    "## Improve Slum Area Identification through Real-Estate Data##\n",
    "\n",
    "- By: [Kathirvel Kumararaja]()"
   ]
  },
  {
   "cell_type": "markdown",
   "metadata": {},
   "source": [
    "# Problem Statement"
   ]
  },
  {
   "cell_type": "markdown",
   "metadata": {},
   "source": [
    "Informal settlements are home to the most socially and economically vulnerable people on the planet. In order to deliver effective economic and social aid, non-government organizations (NGOs), such as the United Nations Children’s Fund (UNICEF), require detailed maps of the locations of informal settlements.\n",
    "New Light Technologies hired us to predict informal settlements through web-scraping of real-estate data. While original scope of the project was to build a web scraper to house and apartment adverts for a selected city we found that there is no standadization of real estate across Africa/Latin America/Middle East. We limited our scope to Brazil.\n",
    "\n",
    "The project will attempt to test the feasibility of estimating informal tenure from this information.\n",
    "\n",
    "We will be using __Accuracy__ as a metric to test the model. \n",
    "We will be using a __classification__ model to __predict__ and a __regression__ model to __intrepret__ the findings.  "
   ]
  },
  {
   "cell_type": "markdown",
   "metadata": {},
   "source": [
    "![title](../assets/ClientProject.jpg)"
   ]
  },
  {
   "cell_type": "markdown",
   "metadata": {},
   "source": [
    "# Executive Summary"
   ]
  },
  {
   "cell_type": "markdown",
   "metadata": {},
   "source": [
    "This project is being developed for New Light Technologies  a small, award-winning organization based in Washington, D.C. that provides solutions to government, commercial, and non-profit clients. The main objective of this project is to Improve Slum Area Identification through Real-Estate Data. We found during research that around 25% of the world's urban population lives in informal settlements, areas that are cut off from basic services and city infrastructure. Mapping these locations can dramatically help aid and non-government organizations better serve those in need. Our team intent to develope a machine learning-based tool that can automatically classify informal settlements using freely available population density data, real estate listing, satellite and aerial imagery. Our first strategy is to finalize a good data source forbuild a web scraper to house and apartment adverts for a selected city in Africa/Latin America/Middle East. \n",
    "We used Geo processing for extracting the data related to census data from few cities from Barzil (Viz. Sao Paulo). The Geo processing helped us download the census data and real estate adverts in the selected city for about 3 years.  Using gridded population estimates, we calculated the ratio of real estate adverts with population density. We used this ratio as one of the x values for our machine learning models which helped  us with  mapping informal settlements. EDA helped us in choosing the X values those seemed to be having more correlation in identifying the slum area. \n",
    "\n",
    "Machines had no problem understanding the real estat data, after the initial EDA.\n",
    "\n",
    "Source : https://www.habitatireland.ie/2018/01/1-billion-people-live-slums/"
   ]
  },
  {
   "cell_type": "markdown",
   "metadata": {},
   "source": [
    "# Data Dictionary"
   ]
  },
  {
   "cell_type": "markdown",
   "metadata": {},
   "source": [
    "|Column Name|Data Type|Description|\n",
    "|---|---|---|  \n",
    "cd_geocodi| | Shapefile \n",
    "nm_subdist|*object*| Name of the subdistrict.  \n",
    "nm_distrit|*object*| Name of district.  \n",
    "nm_municip|*object*| Name of municipality.   \n",
    "geog_orig_area| *float* | Area of geographical  shapefile.  \n",
    "favela_present|*boolean*| 1 = Favela Present, 0 = Favela Not Present|  \n",
    "favela_area_squaremeters| *float*| Area of Favela (m^2)  \n",
    "sao_paulo_apartment_count_listings| *integer* | Number of listings within shapefile.  \n",
    "sao_paulo_apartment_near_dist| *float* | Distance to the nearest listing outside of shapefile.\n",
    "sao_paulo_apartment_near_angle| *float* | Angle to nearest listing outside shapefile. \n",
    "sao_paulo_apartment_near_price| *float* |  Price of nearest listing outside of shapefile.\n",
    "brazil_apartment_count_listings| *integer* | Number of apartment listings within shapefile.\n",
    "brazil_apartment_near_dist| *float* |Distance to the nearest apartment listing outside of shapefile.\n",
    "brazil_apartment_near_angle| *float* | Angle to nearest apartment listing outside shapefile.\n",
    "brazil_apartment_near_price| *float* |  Price of nearest apartment listing outside of shapefile.\n",
    "brazil_house_count_listings| *integer* |  Number of house listings within shapefile.\n",
    "brazil_house_near_dist| *float* |  Distance to the nearest house listing outside of shapefile.\n",
    "brazil_house_near_angle| *float* |  Angle to nearest house listing outside shapefile.\n",
    "brazil_house_near_price| *float* |  Price of nearest house listing outside of shapefile.\n",
    "brazil_store_count_listings| *integer* |  Number of store listings within shapefile.\n",
    "brazil_store_near_dist| *float* |  Distance to the nearest store listing outside of shapefile.\n",
    "brazil_store_near_angle| *float* |  Angle to nearest store listing outside shapefile.\n",
    "brazil_store_near_price| *float* |  Price of nearest store listing outside of shapefile.\n",
    "brazil_ph_count_listings| *integer* |  Number of private home listings within shapefile.\n",
    "brazil_ph_near_dist| *float* |  Distance to the nearest private home listing outside of shapefile.\n",
    "brazil_ph_near_angle| *float* |  Angle to nearest private home listing outside shapefile.\n",
    "brazil_ph_near_price| *float* |  Price of nearest private home listing outside of shapefile.\n",
    "population_estimate| *float* |  Population Estimate for shapefile. "
   ]
  },
  {
   "cell_type": "markdown",
   "metadata": {},
   "source": [
    "# Importing Libraries & Data"
   ]
  },
  {
   "cell_type": "code",
   "execution_count": 1,
   "metadata": {},
   "outputs": [
    {
     "name": "stderr",
     "output_type": "stream",
     "text": [
      "/Users/kraja/anaconda3/lib/python3.7/site-packages/statsmodels/tools/_testing.py:19: FutureWarning: pandas.util.testing is deprecated. Use the functions in the public API at pandas.testing instead.\n",
      "  import pandas.util.testing as tm\n"
     ]
    }
   ],
   "source": [
    "import pandas as pd\n",
    "import numpy as np\n",
    "import matplotlib.pyplot as plt\n",
    "import seaborn as sns\n",
    "from sklearn.model_selection import cross_val_score, train_test_split, GridSearchCV\n",
    "from sklearn.linear_model import LogisticRegression\n",
    "from sklearn.naive_bayes import MultinomialNB, GaussianNB\n",
    "from sklearn.neighbors import KNeighborsClassifier\n",
    "from sklearn.svm import SVC\n",
    "from sklearn.ensemble import BaggingClassifier, RandomForestClassifier, ExtraTreesClassifier\n",
    "from sklearn.tree import DecisionTreeClassifier\n",
    "from sklearn.metrics import confusion_matrix, roc_auc_score\n",
    "from sklearn.preprocessing import StandardScaler, MinMaxScaler\n",
    "from sklearn.preprocessing import PolynomialFeatures\n",
    "from sklearn.linear_model import LinearRegression, RidgeCV, LassoCV, Lasso, ElasticNetCV\n",
    "from sklearn.pipeline import Pipeline\n",
    "from sklearn.datasets import make_classification\n",
    "from sklearn.ensemble import GradientBoostingClassifier, AdaBoostClassifier, VotingClassifier, RandomForestClassifier\n",
    "from sklearn.tree import DecisionTreeClassifier\n",
    "from sklearn.neighbors import KNeighborsClassifier\n",
    "\n",
    "\n",
    "\n",
    "import warnings\n",
    "warnings.filterwarnings('ignore')"
   ]
  },
  {
   "cell_type": "code",
   "execution_count": 2,
   "metadata": {},
   "outputs": [],
   "source": [
    "data = pd.read_csv('../datasets/modeling_dataset.csv')"
   ]
  },
  {
   "cell_type": "code",
   "execution_count": 3,
   "metadata": {},
   "outputs": [
    {
     "data": {
      "text/html": [
       "<div>\n",
       "<style scoped>\n",
       "    .dataframe tbody tr th:only-of-type {\n",
       "        vertical-align: middle;\n",
       "    }\n",
       "\n",
       "    .dataframe tbody tr th {\n",
       "        vertical-align: top;\n",
       "    }\n",
       "\n",
       "    .dataframe thead th {\n",
       "        text-align: right;\n",
       "    }\n",
       "</style>\n",
       "<table border=\"1\" class=\"dataframe\">\n",
       "  <thead>\n",
       "    <tr style=\"text-align: right;\">\n",
       "      <th></th>\n",
       "      <th>cd_geocodi</th>\n",
       "      <th>nm_subdist</th>\n",
       "      <th>nm_distrit</th>\n",
       "      <th>nm_municip</th>\n",
       "      <th>nm_micro</th>\n",
       "      <th>nm_meso</th>\n",
       "      <th>id1</th>\n",
       "      <th>geog_orig_area</th>\n",
       "      <th>favela_present</th>\n",
       "      <th>favela_area_squaremeters</th>\n",
       "      <th>...</th>\n",
       "      <th>brazil_ph_count_listings</th>\n",
       "      <th>brazil_ph_near_fid</th>\n",
       "      <th>brazil_ph_near_dist</th>\n",
       "      <th>brazil_ph_near_angle</th>\n",
       "      <th>brazil_ph_near_price</th>\n",
       "      <th>sp_brazil_ph_kernel_density</th>\n",
       "      <th>population_estimate</th>\n",
       "      <th>total_listing_count</th>\n",
       "      <th>listing/pop</th>\n",
       "      <th>listing/area</th>\n",
       "    </tr>\n",
       "  </thead>\n",
       "  <tbody>\n",
       "    <tr>\n",
       "      <th>0</th>\n",
       "      <td>350570810000023</td>\n",
       "      <td></td>\n",
       "      <td>ALDEIA</td>\n",
       "      <td>BARUERI</td>\n",
       "      <td>OSASCO</td>\n",
       "      <td>METROPOLITANA DE STO PAULO</td>\n",
       "      <td>4151</td>\n",
       "      <td>0.225738</td>\n",
       "      <td>0.0</td>\n",
       "      <td>0.0</td>\n",
       "      <td>...</td>\n",
       "      <td>0.0</td>\n",
       "      <td>31</td>\n",
       "      <td>8889.189773</td>\n",
       "      <td>-158.493799</td>\n",
       "      <td>2500.0</td>\n",
       "      <td>0.0</td>\n",
       "      <td>1164.570831</td>\n",
       "      <td>0.0</td>\n",
       "      <td>0.000000</td>\n",
       "      <td>0.000000</td>\n",
       "    </tr>\n",
       "    <tr>\n",
       "      <th>1</th>\n",
       "      <td>350570810000025</td>\n",
       "      <td></td>\n",
       "      <td>ALDEIA</td>\n",
       "      <td>BARUERI</td>\n",
       "      <td>OSASCO</td>\n",
       "      <td>METROPOLITANA DE STO PAULO</td>\n",
       "      <td>4153</td>\n",
       "      <td>0.039267</td>\n",
       "      <td>0.0</td>\n",
       "      <td>0.0</td>\n",
       "      <td>...</td>\n",
       "      <td>0.0</td>\n",
       "      <td>31</td>\n",
       "      <td>8546.979457</td>\n",
       "      <td>-156.899284</td>\n",
       "      <td>2500.0</td>\n",
       "      <td>0.0</td>\n",
       "      <td>413.065460</td>\n",
       "      <td>0.0</td>\n",
       "      <td>0.000000</td>\n",
       "      <td>0.000000</td>\n",
       "    </tr>\n",
       "    <tr>\n",
       "      <th>2</th>\n",
       "      <td>350570805000043</td>\n",
       "      <td></td>\n",
       "      <td>BARUERI</td>\n",
       "      <td>BARUERI</td>\n",
       "      <td>OSASCO</td>\n",
       "      <td>METROPOLITANA DE SuO PAULO</td>\n",
       "      <td>4380</td>\n",
       "      <td>0.039251</td>\n",
       "      <td>0.0</td>\n",
       "      <td>0.0</td>\n",
       "      <td>...</td>\n",
       "      <td>0.0</td>\n",
       "      <td>31</td>\n",
       "      <td>17668.657905</td>\n",
       "      <td>-146.372789</td>\n",
       "      <td>2500.0</td>\n",
       "      <td>0.0</td>\n",
       "      <td>424.170563</td>\n",
       "      <td>0.0</td>\n",
       "      <td>0.000000</td>\n",
       "      <td>0.000000</td>\n",
       "    </tr>\n",
       "    <tr>\n",
       "      <th>3</th>\n",
       "      <td>350570805000056</td>\n",
       "      <td></td>\n",
       "      <td>BARUERI</td>\n",
       "      <td>BARUERI</td>\n",
       "      <td>OSASCO</td>\n",
       "      <td>METROPOLITANA DE SuO PAULO</td>\n",
       "      <td>4393</td>\n",
       "      <td>0.071366</td>\n",
       "      <td>0.0</td>\n",
       "      <td>0.0</td>\n",
       "      <td>...</td>\n",
       "      <td>0.0</td>\n",
       "      <td>31</td>\n",
       "      <td>14395.394220</td>\n",
       "      <td>-159.666627</td>\n",
       "      <td>2500.0</td>\n",
       "      <td>0.0</td>\n",
       "      <td>272.054306</td>\n",
       "      <td>3.0</td>\n",
       "      <td>1.102721</td>\n",
       "      <td>4203.667989</td>\n",
       "    </tr>\n",
       "    <tr>\n",
       "      <th>4</th>\n",
       "      <td>350570805000057</td>\n",
       "      <td></td>\n",
       "      <td>BARUERI</td>\n",
       "      <td>BARUERI</td>\n",
       "      <td>OSASCO</td>\n",
       "      <td>METROPOLITANA DE SuO PAULO</td>\n",
       "      <td>4394</td>\n",
       "      <td>1.264789</td>\n",
       "      <td>0.0</td>\n",
       "      <td>0.0</td>\n",
       "      <td>...</td>\n",
       "      <td>0.0</td>\n",
       "      <td>31</td>\n",
       "      <td>13056.248015</td>\n",
       "      <td>-160.753356</td>\n",
       "      <td>2500.0</td>\n",
       "      <td>0.0</td>\n",
       "      <td>2401.068539</td>\n",
       "      <td>6.0</td>\n",
       "      <td>0.249889</td>\n",
       "      <td>474.387541</td>\n",
       "    </tr>\n",
       "  </tbody>\n",
       "</table>\n",
       "<p>5 rows × 44 columns</p>\n",
       "</div>"
      ],
      "text/plain": [
       "        cd_geocodi nm_subdist nm_distrit nm_municip nm_micro  \\\n",
       "0  350570810000023                ALDEIA    BARUERI   OSASCO   \n",
       "1  350570810000025                ALDEIA    BARUERI   OSASCO   \n",
       "2  350570805000043               BARUERI    BARUERI   OSASCO   \n",
       "3  350570805000056               BARUERI    BARUERI   OSASCO   \n",
       "4  350570805000057               BARUERI    BARUERI   OSASCO   \n",
       "\n",
       "                      nm_meso   id1  geog_orig_area  favela_present  \\\n",
       "0  METROPOLITANA DE STO PAULO  4151        0.225738             0.0   \n",
       "1  METROPOLITANA DE STO PAULO  4153        0.039267             0.0   \n",
       "2  METROPOLITANA DE SuO PAULO  4380        0.039251             0.0   \n",
       "3  METROPOLITANA DE SuO PAULO  4393        0.071366             0.0   \n",
       "4  METROPOLITANA DE SuO PAULO  4394        1.264789             0.0   \n",
       "\n",
       "   favela_area_squaremeters  ...  brazil_ph_count_listings  \\\n",
       "0                       0.0  ...                       0.0   \n",
       "1                       0.0  ...                       0.0   \n",
       "2                       0.0  ...                       0.0   \n",
       "3                       0.0  ...                       0.0   \n",
       "4                       0.0  ...                       0.0   \n",
       "\n",
       "   brazil_ph_near_fid  brazil_ph_near_dist  brazil_ph_near_angle  \\\n",
       "0                  31          8889.189773           -158.493799   \n",
       "1                  31          8546.979457           -156.899284   \n",
       "2                  31         17668.657905           -146.372789   \n",
       "3                  31         14395.394220           -159.666627   \n",
       "4                  31         13056.248015           -160.753356   \n",
       "\n",
       "   brazil_ph_near_price  sp_brazil_ph_kernel_density  population_estimate  \\\n",
       "0                2500.0                          0.0          1164.570831   \n",
       "1                2500.0                          0.0           413.065460   \n",
       "2                2500.0                          0.0           424.170563   \n",
       "3                2500.0                          0.0           272.054306   \n",
       "4                2500.0                          0.0          2401.068539   \n",
       "\n",
       "   total_listing_count  listing/pop  listing/area  \n",
       "0                  0.0     0.000000      0.000000  \n",
       "1                  0.0     0.000000      0.000000  \n",
       "2                  0.0     0.000000      0.000000  \n",
       "3                  3.0     1.102721   4203.667989  \n",
       "4                  6.0     0.249889    474.387541  \n",
       "\n",
       "[5 rows x 44 columns]"
      ]
     },
     "execution_count": 3,
     "metadata": {},
     "output_type": "execute_result"
    }
   ],
   "source": [
    "data.head()"
   ]
  },
  {
   "cell_type": "code",
   "execution_count": 4,
   "metadata": {},
   "outputs": [
    {
     "data": {
      "text/plain": [
       "(27817, 44)"
      ]
     },
     "execution_count": 4,
     "metadata": {},
     "output_type": "execute_result"
    }
   ],
   "source": [
    "data.shape"
   ]
  },
  {
   "cell_type": "markdown",
   "metadata": {},
   "source": [
    "__Preprocessing & Modeling__"
   ]
  },
  {
   "cell_type": "code",
   "execution_count": 5,
   "metadata": {},
   "outputs": [],
   "source": [
    "X_cols = ['sao_paulo_apartment_count_listings', 'sao_paulo_apartment_near_dist', 'sao_paulo_apartment_near_angle',\n",
    "         'sao_paulo_apartment_near_price', 'brazil_apartment_count_listings', 'brazil_apartment_near_dist', \n",
    "         'brazil_apartment_near_angle', 'brazil_apartment_near_price', 'brazil_house_count_listings', \n",
    "         'brazil_house_near_dist', 'brazil_house_near_angle', 'brazil_house_near_price', \n",
    "         'brazil_store_count_listings', 'brazil_store_near_dist', 'brazil_store_near_angle',\n",
    "         'brazil_store_near_price', 'brazil_ph_count_listings', 'brazil_ph_near_dist', 'brazil_ph_near_angle',\n",
    "         'brazil_ph_near_price', 'population_estimate']\n",
    "\n",
    "X = data[X_cols]\n",
    "y = data['favela_present']\n",
    "\n",
    "X_train, X_test, y_train, y_test = train_test_split(X, y, random_state = 19)"
   ]
  },
  {
   "cell_type": "markdown",
   "metadata": {},
   "source": [
    "# Modeling"
   ]
  },
  {
   "cell_type": "markdown",
   "metadata": {},
   "source": [
    "## Base Line Model"
   ]
  },
  {
   "cell_type": "code",
   "execution_count": 6,
   "metadata": {},
   "outputs": [
    {
     "data": {
      "text/plain": [
       "0.0    0.778589\n",
       "1.0    0.221411\n",
       "Name: favela_present, dtype: float64"
      ]
     },
     "execution_count": 6,
     "metadata": {},
     "output_type": "execute_result"
    }
   ],
   "source": [
    "data['favela_present'].value_counts(normalize = True)"
   ]
  },
  {
   "cell_type": "markdown",
   "metadata": {},
   "source": [
    "## Logistic Regression Model"
   ]
  },
  {
   "cell_type": "code",
   "execution_count": 7,
   "metadata": {},
   "outputs": [
    {
     "name": "stdout",
     "output_type": "stream",
     "text": [
      "Score on training set: 0.7822835777969513\n",
      "Score on testing set: 0.785765636232926\n",
      "Cross Val Score: 0.7814685922386827\n"
     ]
    }
   ],
   "source": [
    "pipe_log = Pipeline([('sc', StandardScaler()),\n",
    "                ('log', LogisticRegression(solver = 'liblinear'))\n",
    "])\n",
    "params_log = {'sc__with_mean': [True, False], \n",
    "                 'sc__with_std': [True, False],\n",
    "                 'log__C': [1e9, 0.0001, 10]}\n",
    "            \n",
    "gs_log = GridSearchCV(pipe_log, \n",
    "                     params_log,\n",
    "                 cv=5, \n",
    ")\n",
    "\n",
    "log_model = gs_log.fit(X_train, y_train)\n",
    "\n",
    "print(f'Score on training set: {log_model.score(X_train, y_train)}')\n",
    "print(f'Score on testing set: {log_model.score(X_test, y_test)}')\n",
    "print(f'Cross Val Score: {cross_val_score(log_model, X_train, y_train, cv=5).mean()}')"
   ]
  },
  {
   "cell_type": "markdown",
   "metadata": {},
   "source": [
    "__Logistic Regression Score Intrepretation__\n",
    "\n",
    "**The above Logistic Regression model has accuracy of 0.78 for my training set and has accuracy 0.79 for my testing set. This model performs same as my baseline model score of 0.77**"
   ]
  },
  {
   "cell_type": "markdown",
   "metadata": {},
   "source": [
    "## KNN Model"
   ]
  },
  {
   "cell_type": "code",
   "execution_count": 8,
   "metadata": {},
   "outputs": [
    {
     "name": "stdout",
     "output_type": "stream",
     "text": [
      "Score on training set: 1.0\n",
      "Score on testing set: 0.8825305535585909\n",
      "Cross Val Score: 0.872639464246458\n"
     ]
    }
   ],
   "source": [
    "pipe_kn1 = Pipeline([('sc', StandardScaler()),\n",
    "    ('kn', KNeighborsClassifier())\n",
    "])\n",
    "params_kn1 = {'sc__with_mean': [True, False], \n",
    "                 'sc__with_std': [True, False],\n",
    "                 'kn__p': [1, 2], \n",
    "                 'kn__weights': ['uniform', 'distance'],\n",
    "                 'kn__n_neighbors': [3, 5, 10]}\n",
    "                 \n",
    "gs_kn1 = GridSearchCV(pipe_kn1, \n",
    "                     params_kn1,\n",
    "                 cv=5, \n",
    ")\n",
    "\n",
    "kn1_model = gs_kn1.fit(X_train, y_train)\n",
    "print(f'Score on training set: {kn1_model.score(X_train, y_train)}')\n",
    "print(f'Score on testing set: {kn1_model.score(X_test, y_test)}')\n",
    "print(f'Cross Val Score: {cross_val_score(kn1_model, X_train, y_train, cv=5).mean()}')"
   ]
  },
  {
   "cell_type": "markdown",
   "metadata": {},
   "source": [
    "__KNN Model Score Intrepretation__\n",
    "\n",
    "**The above KNN model has accuracy of 0.10 for my training set and has accuracy 0.88 for my testing set. This model out performedmy baseline model score of 0.77**"
   ]
  },
  {
   "cell_type": "markdown",
   "metadata": {},
   "source": [
    "## Decision Tree Model"
   ]
  },
  {
   "cell_type": "code",
   "execution_count": 9,
   "metadata": {},
   "outputs": [
    {
     "name": "stdout",
     "output_type": "stream",
     "text": [
      "Score on training set: 0.8217332949860991\n",
      "Score on testing set: 0.8076204169662113\n",
      "Cross Val Score: 0.8046208184726418\n"
     ]
    }
   ],
   "source": [
    "pipe_dt1 = Pipeline([('sc', StandardScaler()),\n",
    "    ('dt',DecisionTreeClassifier(random_state = 42))\n",
    "])\n",
    "params_dt1 = {'sc__with_mean': [True, False], \n",
    "                 'sc__with_std': [True, False],\n",
    "                 'dt__max_depth':[3,5,7],\n",
    "                 'dt__min_samples_split':[10,15,20],\n",
    "                 'dt__min_samples_leaf':[5,7,9]\n",
    "                   }\n",
    "                 \n",
    "gs_dt1 = GridSearchCV(pipe_dt1, \n",
    "                     params_dt1,\n",
    "                 cv=5, \n",
    ")\n",
    "\n",
    "\n",
    "\n",
    "dt1_model = gs_dt1.fit(X_train, y_train)\n",
    "# Evaluate model.\n",
    "print(f'Score on training set: {dt1_model.score(X_train, y_train)}')\n",
    "print(f'Score on testing set: {dt1_model.score(X_test, y_test)}')\n",
    "print(f'Cross Val Score: {cross_val_score(dt1_model, X_train, y_train, cv=5).mean()}')"
   ]
  },
  {
   "cell_type": "markdown",
   "metadata": {},
   "source": [
    "__Intrepretation Decision Tree Score__\n",
    "\n",
    "**The above Decision Tree model has accuracy of 0.1 for my training set and has accuracy 0.84 for my testing set. This model out performedmy baseline model score of 0.77**"
   ]
  },
  {
   "cell_type": "markdown",
   "metadata": {},
   "source": [
    "## Bagged Tree Model"
   ]
  },
  {
   "cell_type": "code",
   "execution_count": 10,
   "metadata": {},
   "outputs": [
    {
     "name": "stdout",
     "output_type": "stream",
     "text": [
      "Score on training set: 0.7786405905474068\n",
      "Score on testing set: 0.7784327821710999\n",
      "Cross Val Score: 0.7786406030896732\n"
     ]
    }
   ],
   "source": [
    "pipe_bag1 = Pipeline([('sc', StandardScaler()),\n",
    "    ('bag',BaggingClassifier(random_state = 42))\n",
    "])\n",
    "params_bag1 = {'sc__with_mean': [True, False], \n",
    "              'sc__with_std': [True, False],\n",
    "              'bag__n_estimators': [10, 20, 30],\n",
    "              'bag__max_samples': [1, 2, 3],\n",
    "              'bag__bootstrap': [True],\n",
    "                   }\n",
    "                 \n",
    "gs_bag1 = GridSearchCV(pipe_bag1, \n",
    "                     params_bag1,\n",
    "                 cv=5, \n",
    ")\n",
    "\n",
    "\n",
    "\n",
    "bag1_model = gs_bag1.fit(X_train, y_train)\n",
    "# Evaluate model.\n",
    "print(f'Score on training set: {bag1_model.score(X_train, y_train)}')\n",
    "print(f'Score on testing set: {bag1_model.score(X_test, y_test)}')\n",
    "print(f'Cross Val Score: {cross_val_score(bag1_model, X_train, y_train, cv=5).mean()}')"
   ]
  },
  {
   "cell_type": "markdown",
   "metadata": {},
   "source": [
    "__Intrepretation Bagged Tree Score__\n",
    "\n",
    "**The above Bagged Tree model has accuracy of 0.78 for my training set and has accuracy 0.78 for my testing set. This model out performedmy baseline model score of 0.77**"
   ]
  },
  {
   "cell_type": "markdown",
   "metadata": {},
   "source": [
    "## Random Forest"
   ]
  },
  {
   "cell_type": "markdown",
   "metadata": {},
   "source": [
    "__Special Note : Since the cross val score was very different from Test and Train scores I am trying with a different random state.__"
   ]
  },
  {
   "cell_type": "code",
   "execution_count": 11,
   "metadata": {},
   "outputs": [],
   "source": [
    "X_cols = ['sao_paulo_apartment_count_listings', 'sao_paulo_apartment_near_dist', 'sao_paulo_apartment_near_angle',\n",
    "         'sao_paulo_apartment_near_price', 'brazil_apartment_count_listings', 'brazil_apartment_near_dist', \n",
    "         'brazil_apartment_near_angle', 'brazil_apartment_near_price', 'brazil_house_count_listings', \n",
    "         'brazil_house_near_dist', 'brazil_house_near_angle', 'brazil_house_near_price', \n",
    "         'brazil_store_count_listings', 'brazil_store_near_dist', 'brazil_store_near_angle',\n",
    "         'brazil_store_near_price', 'brazil_ph_count_listings', 'brazil_ph_near_dist', 'brazil_ph_near_angle',\n",
    "         'brazil_ph_near_price', 'population_estimate']\n",
    "\n",
    "X = data[X_cols]\n",
    "y = data['favela_present']\n",
    "\n",
    "X_train, X_test, y_train, y_test = train_test_split(X, y, random_state = 42)"
   ]
  },
  {
   "cell_type": "code",
   "execution_count": 12,
   "metadata": {},
   "outputs": [
    {
     "name": "stdout",
     "output_type": "stream",
     "text": [
      "Score on training set: 1.0\n",
      "Score on testing set: 0.8921639108554996\n"
     ]
    }
   ],
   "source": [
    "pipe_rf1 = Pipeline([('sc', StandardScaler()),\n",
    "        ('rf',RandomForestClassifier())\n",
    "])\n",
    "params_rf1= {'sc__with_mean': [True, False], \n",
    "                 'sc__with_std': [True, False],\n",
    "                  'rf__n_estimators': [100, 150, 200],\n",
    "            'rf__max_depth': [None, 1, 2, 3, 4, 5], }\n",
    "                 \n",
    "gs_rf1 = GridSearchCV(pipe_rf1, \n",
    "                     params_rf1,\n",
    "                 cv=5, )\n",
    "\n",
    "\n",
    "\n",
    "\n",
    "rf1_model = gs_rf1.fit(X_train, y_train)\n",
    "# Evaluate model.\n",
    "print(f'Score on training set: {rf1_model.score(X_train, y_train)}')\n",
    "print(f'Score on testing set: {rf1_model.score(X_test, y_test)}')"
   ]
  },
  {
   "cell_type": "code",
   "execution_count": 13,
   "metadata": {},
   "outputs": [
    {
     "name": "stdout",
     "output_type": "stream",
     "text": [
      "Cross Val Score: 0.8831841847595393\n"
     ]
    }
   ],
   "source": [
    "print(f'Cross Val Score: {cross_val_score(rf1_model, X_train, y_train, cv=3).mean()}')"
   ]
  },
  {
   "cell_type": "markdown",
   "metadata": {},
   "source": [
    "## Extra trees model"
   ]
  },
  {
   "cell_type": "code",
   "execution_count": 14,
   "metadata": {},
   "outputs": [
    {
     "name": "stdout",
     "output_type": "stream",
     "text": [
      "Score on training set: 1.0\n",
      "Score on testing set: 0.8925952552120776\n"
     ]
    }
   ],
   "source": [
    "pipe_et1 = Pipeline([('sc', StandardScaler()),\n",
    "        ('et',ExtraTreesClassifier())\n",
    "])\n",
    "params_et1= {'sc__with_mean': [True, False], \n",
    "                 'sc__with_std': [True, False],\n",
    "                  'et__n_estimators': [100, 150, 200],\n",
    "            'et__max_depth': [None, 1, 2, 3, 4, 5], }\n",
    "                 \n",
    "gs_et1 = GridSearchCV(pipe_et1,\n",
    "                        param_grid=params_et1,\n",
    "                        cv=5,\n",
    "                        scoring='accuracy',\n",
    "                        n_jobs=-2)\n",
    "\n",
    "\n",
    "\n",
    "et1_model = gs_et1.fit(X_train, y_train)\n",
    "# Evaluate model.\n",
    "print(f'Score on training set: {et1_model.score(X_train, y_train)}')\n",
    "print(f'Score on testing set: {et1_model.score(X_test, y_test)}')"
   ]
  },
  {
   "cell_type": "code",
   "execution_count": 15,
   "metadata": {},
   "outputs": [
    {
     "data": {
      "text/plain": [
       "GridSearchCV(cv=5, error_score='raise-deprecating',\n",
       "             estimator=Pipeline(memory=None,\n",
       "                                steps=[('extra_trees',\n",
       "                                        ExtraTreesClassifier(bootstrap=False,\n",
       "                                                             class_weight=None,\n",
       "                                                             criterion='gini',\n",
       "                                                             max_depth=None,\n",
       "                                                             max_features='auto',\n",
       "                                                             max_leaf_nodes=None,\n",
       "                                                             min_impurity_decrease=0.0,\n",
       "                                                             min_impurity_split=None,\n",
       "                                                             min_samples_leaf=1,\n",
       "                                                             min_samples_split=2,\n",
       "                                                             min_weight_fraction_leaf=0.0,\n",
       "                                                             n_estimators='warn',\n",
       "                                                             n_jobs=None,\n",
       "                                                             oob_score=False,\n",
       "                                                             random_state=None,\n",
       "                                                             verbose=0,\n",
       "                                                             warm_start=False))],\n",
       "                                verbose=False),\n",
       "             iid='warn', n_jobs=-2,\n",
       "             param_grid={'extra_trees__n_estimators': [300, 400, 500, 600]},\n",
       "             pre_dispatch='2*n_jobs', refit=True, return_train_score=False,\n",
       "             scoring='accuracy', verbose=0)"
      ]
     },
     "execution_count": 15,
     "metadata": {},
     "output_type": "execute_result"
    }
   ],
   "source": [
    "pipe = Pipeline(steps=[('extra_trees', ExtraTreesClassifier())])\n",
    "\n",
    "params = {'extra_trees__n_estimators': [300, 400, 500, 600]}\n",
    "gs_extra_trees = GridSearchCV(pipe,\n",
    "                              param_grid=params,\n",
    "                              cv=5,\n",
    "                              scoring='accuracy',\n",
    "                              n_jobs=-2)\n",
    "gs_extra_trees.fit(X_train, y_train)"
   ]
  },
  {
   "cell_type": "code",
   "execution_count": 16,
   "metadata": {},
   "outputs": [
    {
     "name": "stdout",
     "output_type": "stream",
     "text": [
      "Score on training set: 1.0\n",
      "Score on testing set: 0.8927390366642703\n"
     ]
    }
   ],
   "source": [
    "# Evaluate model.\n",
    "print(f'Score on training set: {gs_extra_trees.score(X_train, y_train)}')\n",
    "print(f'Score on testing set: {gs_extra_trees.score(X_test, y_test)}')"
   ]
  },
  {
   "cell_type": "code",
   "execution_count": 17,
   "metadata": {},
   "outputs": [
    {
     "data": {
      "text/plain": [
       "Pipeline(memory=None,\n",
       "         steps=[('extra_trees',\n",
       "                 ExtraTreesClassifier(bootstrap=False, class_weight=None,\n",
       "                                      criterion='gini', max_depth=None,\n",
       "                                      max_features='auto', max_leaf_nodes=None,\n",
       "                                      min_impurity_decrease=0.0,\n",
       "                                      min_impurity_split=None,\n",
       "                                      min_samples_leaf=1, min_samples_split=2,\n",
       "                                      min_weight_fraction_leaf=0.0,\n",
       "                                      n_estimators=500, n_jobs=None,\n",
       "                                      oob_score=False, random_state=None,\n",
       "                                      verbose=0, warm_start=False))],\n",
       "         verbose=False)"
      ]
     },
     "execution_count": 17,
     "metadata": {},
     "output_type": "execute_result"
    }
   ],
   "source": [
    "# Best Estimator for GridSearch\n",
    "gs_extra_trees.best_estimator_"
   ]
  },
  {
   "cell_type": "code",
   "execution_count": 18,
   "metadata": {},
   "outputs": [
    {
     "name": "stdout",
     "output_type": "stream",
     "text": [
      "Cross Val Score: 0.8887445521924604\n"
     ]
    }
   ],
   "source": [
    "print(f'Cross Val Score: {cross_val_score(et1_model, X_train, y_train, cv=5).mean()}')"
   ]
  },
  {
   "cell_type": "markdown",
   "metadata": {},
   "source": [
    "__Intrepretation Extra Trees Score__\n",
    "\n",
    "**The above Extra Tree model has accuracy of 0.9 for my training set and has accuracy 0.94 for my testing set. This model out performedmy baseline model score of 0.77**"
   ]
  },
  {
   "cell_type": "markdown",
   "metadata": {},
   "source": [
    "## AdaBoost Model"
   ]
  },
  {
   "cell_type": "code",
   "execution_count": 19,
   "metadata": {},
   "outputs": [
    {
     "name": "stdout",
     "output_type": "stream",
     "text": [
      "Score on training set: 0.8310804333237465\n",
      "Score on testing set: 0.8253055355859095\n"
     ]
    }
   ],
   "source": [
    "ada = AdaBoostClassifier(n_estimators = 200)\n",
    "ada.fit(X_train, y_train)\n",
    "ada.score(X_train, y_train)\n",
    "\n",
    "# Evaluate model.\n",
    "print(f'Score on training set: {ada.score(X_train, y_train)}')\n",
    "print(f'Score on testing set: {ada.score(X_test, y_test)}')\n",
    "#print(f'Cross Val Score: {cross_val_score(ada, X, y, cv=5).mean()}')"
   ]
  },
  {
   "cell_type": "markdown",
   "metadata": {},
   "source": [
    "__Intrepretation of AdaBoost Model__\n",
    "\n",
    "This model is worse than most of the previous models, the Extra Trees model is still the best option for the moment. Let's try moving on to a Voting Classifier to see how well it performs."
   ]
  },
  {
   "cell_type": "markdown",
   "metadata": {},
   "source": [
    "## Gradient Boost Model"
   ]
  },
  {
   "cell_type": "code",
   "execution_count": 20,
   "metadata": {},
   "outputs": [
    {
     "name": "stdout",
     "output_type": "stream",
     "text": [
      "Score on training set: 0.8464193270060397\n",
      "Score on testing set: 0.8312005751258088\n"
     ]
    }
   ],
   "source": [
    "grad_boost = GradientBoostingClassifier()\n",
    "grad_boost.fit(X_train, y_train)\n",
    "grad_boost.score(X_train, y_train)\n",
    "\n",
    "# Evaluate model.\n",
    "print(f'Score on training set: {grad_boost.score(X_train, y_train)}')\n",
    "print(f'Score on testing set: {grad_boost.score(X_test, y_test)}')\n",
    "#print(f'Cross Val Score: {cross_val_score(grad_boost, X, y, cv=5).mean()}')"
   ]
  },
  {
   "cell_type": "markdown",
   "metadata": {},
   "source": [
    "__Intrepretation of Gradient Boost Model__\n",
    "\n",
    "This model is slightly better than the AdaBoost model, but still not as good as the Extra Trees model. Let's try a Voting Classifier with the best performing models next."
   ]
  },
  {
   "cell_type": "markdown",
   "metadata": {},
   "source": [
    "## Voting Classifier Model"
   ]
  },
  {
   "cell_type": "code",
   "execution_count": 21,
   "metadata": {},
   "outputs": [
    {
     "name": "stdout",
     "output_type": "stream",
     "text": [
      "0.8782954654395552\n",
      "Score on training set: 0.9954941999808263\n",
      "Score on testing set: 0.8783608914450036\n"
     ]
    }
   ],
   "source": [
    "knn_pipe = Pipeline([\n",
    "    ('ss', StandardScaler()),\n",
    "    ('knn', KNeighborsClassifier())\n",
    "])\n",
    "\n",
    "\n",
    "\n",
    "vote = VotingClassifier([\n",
    "    ('x_tree', ExtraTreesClassifier()),\n",
    "    ('rand_forest', RandomForestClassifier()),\n",
    "    ('knn_pipe', knn_pipe),\n",
    "], voting = 'soft')\n",
    "vote_params = {\n",
    "    'x_tree__max_depth': [None, 4],\n",
    "    'rand_forest__max_depth': [3, 4],\n",
    "    'knn_pipe__knn__n_neighbors': [3, 5, 7],\n",
    "\n",
    "}\n",
    "gs_vc = GridSearchCV(vote, \n",
    "                     param_grid = vote_params, \n",
    "                     cv = 5,\n",
    "                     n_jobs = -2,\n",
    "                     scoring = 'accuracy')\n",
    "gs_vc.fit(X_train, y_train)\n",
    "print(gs_vc.best_score_) # cross val score\n",
    "gs_vc.best_params_\n",
    "\n",
    "# Evaluate model.\n",
    "print(f'Score on training set: {gs_vc.score(X_train, y_train)}')\n",
    "print(f'Score on testing set: {gs_vc.score(X_test, y_test)}')\n",
    "#print(f'Cross Val Score: {cross_val_score(gs_vc, X, y, cv=5).mean()}')\n"
   ]
  },
  {
   "cell_type": "markdown",
   "metadata": {},
   "source": [
    "# Model Selection and Evaluation "
   ]
  },
  {
   "cell_type": "markdown",
   "metadata": {},
   "source": [
    "**Model performance at a glance :**\n",
    "\n",
    "**Baseline score = 0.78**\n",
    "\n",
    "| Sl. No     | Classifier | Train Score | Test Score |\n",
    "|------------|------------|-------------|------------|\n",
    "|  1         | LogisticReg| 0.78        | 0.79       |\n",
    "|  2         | Bgd Trees  | 0.78        | 0.77       |\n",
    "|  3         | Rnd. Frst  | 1.00        | 0.90       |\n",
    "|  4         | Extra Tree | 1.00        | 0.90       |\n",
    "|  5         | Ada Boost  | 0.83        | 0.82       |\n",
    "|  6         | Gradnt.Bst.| 0.84        | 0.83       |\n",
    "|  5         | Votingclsfr| 0.99        | 0.87       |\n",
    "\n",
    "Extra trees model produced 0.90 accuracy score - better than other machine models."
   ]
  },
  {
   "cell_type": "markdown",
   "metadata": {},
   "source": [
    "## Testing Accuracy Score"
   ]
  },
  {
   "cell_type": "code",
   "execution_count": 22,
   "metadata": {},
   "outputs": [
    {
     "name": "stdout",
     "output_type": "stream",
     "text": [
      "Score on training set: 1.0\n",
      "Score on testing set: 0.8925952552120776\n"
     ]
    }
   ],
   "source": [
    "# Accuracy score for Extra Trees Model\n",
    "\n",
    "print(f'Score on training set: {et1_model.score(X_train, y_train)}')\n",
    "print(f'Score on testing set: {et1_model.score(X_test, y_test)}')"
   ]
  },
  {
   "cell_type": "markdown",
   "metadata": {},
   "source": [
    "## Confusion Matrix"
   ]
  },
  {
   "cell_type": "markdown",
   "metadata": {},
   "source": [
    "**Building confusion Matrix for my best performing Extra Trees model**"
   ]
  },
  {
   "cell_type": "code",
   "execution_count": 23,
   "metadata": {},
   "outputs": [],
   "source": [
    "def c_confusion_matrix(y_true, y_pred):\n",
    "    # handling data\n",
    "    cm = confusion_matrix(y_true, y_pred)\n",
    "    labels = y_true.unique()\n",
    "    labels.sort()\n",
    "    \n",
    "    # plotting\n",
    "    sns.set(font_scale=1.2)\n",
    "    plt.figure(figsize=(10,4))\n",
    "    \n",
    "   \n",
    "    \n",
    "    sns.heatmap(cm, annot=True, fmt='g', cmap=\"BuPu\",xticklabels=labels, yticklabels=labels)\n",
    "    plt.title(\"Confusion Matrix\")\n",
    "    plt.xlabel('Predicted Informal Settlements')\n",
    "    plt.ylabel('True Informal Settlements')\n",
    "    \n",
    "    b, t = plt.ylim()\n",
    "    b += 0.8\n",
    "    t -= 0.8\n",
    "    plt.ylim(b, t)\n",
    "    "
   ]
  },
  {
   "cell_type": "code",
   "execution_count": 24,
   "metadata": {},
   "outputs": [
    {
     "data": {
      "image/png": "[encoded data removed]",
      "text/plain": [
       "<Figure size 720x288 with 2 Axes>"
      ]
     },
     "metadata": {},
     "output_type": "display_data"
    }
   ],
   "source": [
    "preds = et1_model.predict(X_test)\n",
    "c_confusion_matrix(y_test, preds)"
   ]
  },
  {
   "cell_type": "markdown",
   "metadata": {},
   "source": [
    " - The \"1\" which is 'Informal Settlment' category is predicted correctly => True positive score = 1015\n",
    " - The \"1\" which is 'Informal Settlment' category is predicted incorrectly => False positive = 526\n",
    " - The \"0\" which is 'Formal Settlment' category is predicted correctly => True negative = 5193\n",
    " - The \"0\" which is 'Formal Settlment' is predicted incorrectly => False positive = 221"
   ]
  },
  {
   "cell_type": "markdown",
   "metadata": {},
   "source": [
    "## ROC AUC Curve"
   ]
  },
  {
   "cell_type": "markdown",
   "metadata": {},
   "source": [
    "Receiver Operating Characteristic (ROC) Curve & Area under the ROC curve\n",
    "\n",
    "I am using Receiver Operating Characteristic curve to visualize the overlap between my positive class and negative class by moving our classification threshold from 0 to 1.\n",
    "\n",
    "I am using the area under the ROC curve (abbreviated ROC AUC or AUC ROC) to quantify the gap between our distributions."
   ]
  },
  {
   "cell_type": "code",
   "execution_count": 25,
   "metadata": {},
   "outputs": [],
   "source": [
    "pred_proba = [i[1] for i in et1_model.predict_proba(X_test)]\n",
    "pred_df = pd.DataFrame({'true_values': y_test,\n",
    "                        'pred_probs':pred_proba})"
   ]
  },
  {
   "cell_type": "code",
   "execution_count": 26,
   "metadata": {},
   "outputs": [
    {
     "data": {
      "text/plain": [
       "0.9375398031310841"
      ]
     },
     "execution_count": 26,
     "metadata": {},
     "output_type": "execute_result"
    }
   ],
   "source": [
    "from sklearn.metrics import roc_auc_score\n",
    "roc_auc_score(pred_df['true_values'], pred_df['pred_probs'])"
   ]
  },
  {
   "cell_type": "code",
   "execution_count": 27,
   "metadata": {},
   "outputs": [
    {
     "data": {
      "image/png": "[encoded data removed]",
      "text/plain": [
       "<Figure size 720x504 with 1 Axes>"
      ]
     },
     "metadata": {},
     "output_type": "display_data"
    }
   ],
   "source": [
    "# Create figure.\n",
    "plt.figure(figsize = (10,7))\n",
    "# Create threshold values.\n",
    "thresholds = np.linspace(0, 1, 200)\n",
    "# Define function to calculate sensitivity. (True positive rate.)\n",
    "def TPR(df, true_col, pred_prob_col, threshold):\n",
    "    true_positive = df[(df[true_col] == 1) & (df[pred_prob_col] >= threshold)].shape[0]\n",
    "    false_negative = df[(df[true_col] == 1) & (df[pred_prob_col] < threshold)].shape[0]\n",
    "    return true_positive / (true_positive + false_negative)\n",
    "# Define function to calculate 1 - specificity. (False positive rate.)\n",
    "def FPR(df, true_col, pred_prob_col, threshold):\n",
    "    true_negative = df[(df[true_col] == 0) & (df[pred_prob_col] <= threshold)].shape[0]\n",
    "    false_positive = df[(df[true_col] == 0) & (df[pred_prob_col] > threshold)].shape[0]\n",
    "    return 1 - (true_negative / (true_negative + false_positive))\n",
    "# Calculate sensitivity & 1-specificity for each threshold between 0 and 1.\n",
    "tpr_values = [TPR(pred_df, 'true_values', 'pred_probs', prob) for prob in thresholds]\n",
    "fpr_values = [FPR(pred_df, 'true_values', 'pred_probs', prob) for prob in thresholds]\n",
    "# Plot ROC curve.\n",
    "plt.plot(fpr_values, # False Positive Rate on X-axis\n",
    "         tpr_values, # True Positive Rate on Y-axis\n",
    "         label='ROC Curve')\n",
    "# Plot baseline. (Perfect overlap between the two populations.)\n",
    "plt.plot(np.linspace(0, 1, 200),\n",
    "         np.linspace(0, 1, 200),\n",
    "         label='baseline',\n",
    "         linestyle='--')\n",
    "# Label axes.\n",
    "plt.title(f'Informal Settlements Vs Formal -  ROC Curve with AUC = {round(roc_auc_score(pred_df[\"true_values\"], pred_df[\"pred_probs\"]),3)}', fontsize=18)\n",
    "plt.ylabel('Sensitivity', fontsize=18)\n",
    "plt.xlabel('1 - Specificity', fontsize=18)\n",
    "# Create legend.\n",
    "plt.legend(fontsize=16);"
   ]
  },
  {
   "cell_type": "markdown",
   "metadata": {},
   "source": [
    "__Interpreting ROC AUC__\n",
    "\n",
    "**We have an ROC AUC of close to 1.In otherwords in our Logistics Regression model our Informal Settlement (positive) and Formal housings (negative) populations are 95% perfectly separated. Looking at our model we can conclude that our model is very close to as good as it can get.**"
   ]
  },
  {
   "cell_type": "markdown",
   "metadata": {},
   "source": [
    "## Feature Importance"
   ]
  },
  {
   "cell_type": "code",
   "execution_count": 28,
   "metadata": {},
   "outputs": [
    {
     "data": {
      "image/png": "[encoded data removed]",
      "text/plain": [
       "<Figure size 648x648 with 1 Axes>"
      ]
     },
     "metadata": {},
     "output_type": "display_data"
    }
   ],
   "source": [
    "# getting the feature importances crom the model\n",
    "feats = gs_extra_trees.best_estimator_.steps[0][1].feature_importances_\n",
    "# getting keys of the test set\n",
    "keys = X_test.keys()\n",
    "# zipping the keys and feature importances\n",
    "feat_import = pd.DataFrame(list(zip(keys, feats)),\n",
    "                           columns=['feature', 'importance'])\n",
    "# sorting the dataframe by importance\n",
    "feat_import = feat_import.sort_values(by='importance', ascending=False)\n",
    "\n",
    "# plotting importance\n",
    "plt.figure(figsize=(9, 9))\n",
    "plt.title('Feature Importance', fontsize=25)\n",
    "sns.set_style(\"darkgrid\")\n",
    "sns.barplot(data=feat_import,\n",
    "            x='importance',\n",
    "            y='feature',\n",
    "            orient='h',\n",
    "            palette=\"BuPu\")\n",
    "plt.xlabel('importance', fontsize=15)\n",
    "plt.ylabel('feature', fontsize=15)\n",
    "plt.tick_params(labelsize=15)"
   ]
  },
  {
   "cell_type": "markdown",
   "metadata": {},
   "source": [
    "## Model Coeficients"
   ]
  },
  {
   "cell_type": "code",
   "execution_count": 29,
   "metadata": {},
   "outputs": [
    {
     "data": {
      "image/png": "[encoded data removed]",
      "text/plain": [
       "<Figure size 648x648 with 1 Axes>"
      ]
     },
     "metadata": {},
     "output_type": "display_data"
    }
   ],
   "source": [
    "# getting the feature coefficiants crom the Logistic Regression model\n",
    "coefs = gs_log.best_estimator_.steps[1][1].coef_\n",
    "# getting keys of the test set\n",
    "keys = X_test.keys()\n",
    "# zipping the keys and feature importances\n",
    "feat_coef = pd.DataFrame(list(zip(keys, coefs[0])),\n",
    "                         columns=['feature', 'coefficient'])\n",
    "# sorting the dataframe by coefficients\n",
    "feat_coef = feat_coef.sort_values(by='coefficient', ascending=False)\n",
    "\n",
    "# plotting coefficients\n",
    "plt.figure(figsize=(9, 9))\n",
    "plt.title('Feature Coefficients', fontsize=25)\n",
    "sns.set_style(\"darkgrid\")\n",
    "sns.barplot(data=feat_coef,\n",
    "            x='coefficient',\n",
    "            y='feature',\n",
    "            orient='h',\n",
    "            palette=\"BuPu\")\n",
    "plt.xlabel('Coefficient', fontsize=15)\n",
    "plt.ylabel('Feature', fontsize=15)\n",
    "plt.tick_params(labelsize=10)"
   ]
  },
  {
   "cell_type": "markdown",
   "metadata": {},
   "source": [
    "## Visualizing rhe "
   ]
  },
  {
   "cell_type": "code",
   "execution_count": 31,
   "metadata": {},
   "outputs": [],
   "source": [
    "# getting predictions and saving them to a csv for mapping\n",
    "preds = gs_extra_trees.predict(X)\n",
    "data['predicted_favela_present'] = preds\n",
    "map_df = data[['cd_geocodi', 'favela_present', 'predicted_favela_present']]\n",
    "map_df.to_csv('../datasets/predicted-favelas.csv', index=False)"
   ]
  },
  {
   "cell_type": "markdown",
   "metadata": {},
   "source": [
    "## Conclusion"
   ]
  },
  {
   "cell_type": "markdown",
   "metadata": {},
   "source": [
    "With help of availabel data from Kaggle, public real estate data and population mapped to cesnsus tracts I was able to predict informal settlements in Sao Paulo. During the modeling process we found that few features have high (Positive and Negative) coffecients with the presence of a informal settlements. __Apartment listing distance__ was a great indicator in our models. One of the __unusual findings__ is that the __price__ of real estate listings and __quantity__ of the listings didn't have much impact.\n",
    "\n",
    "One of the limitation I found in our best performing model the Extra Tree Modelis that the Train and Test scores always performed much better than the cross val score on the original dataset. Even after trying with different Random State I couldn't improve the Cross Val scores on the Original data set. This needs further investigation. \n",
    "\n",
    "This model with data from public real estate data and population mapped to cesnsus tracts can be used in other cities if we can get an accurate data from the respective agencies. The model would be best fit for North and South American countries.  "
   ]
  },
  {
   "cell_type": "markdown",
   "metadata": {},
   "source": [
    "### Recommendations and furthur plans"
   ]
  },
  {
   "cell_type": "markdown",
   "metadata": {},
   "source": [
    "As noted in the conclusion, we recommend using different models for different regions. While this model works well for the city we tested in on, it may not work well in less urban environments where informal settlements may be constructed.\n",
    "\n",
    "This method isn't perfect, and will likely work best when used in conjunction with other methods of detecting informal settlements using satellite data. A combination of the two would likely yield better results than these models alone.\n",
    "\n",
    "One limitation is that very small favelas will mark an entire census tract as having an informal settlement within it. Future iterations may want to limit the number of small informal settlements included in the model.\n",
    "\n",
    "Future versions may also want to avoid using census tracts as a geographical unit as they tend to have unusual shapes. Other methods should be considered for geographical mapping."
   ]
  }
 ],
 "metadata": {
  "kernelspec": {
   "display_name": "Python 3",
   "language": "python",
   "name": "python3"
  },
  "language_info": {
   "codemirror_mode": {
    "name": "ipython",
    "version": 3
   },
   "file_extension": ".py",
   "mimetype": "text/x-python",
   "name": "python",
   "nbconvert_exporter": "python",
   "pygments_lexer": "ipython3",
   "version": "3.7.3"
  },
  "toc": {
   "base_numbering": 1,
   "nav_menu": {},
   "number_sections": true,
   "sideBar": true,
   "skip_h1_title": false,
   "title_cell": "Table of Contents",
   "title_sidebar": "Contents",
   "toc_cell": false,
   "toc_position": {
    "height": "calc(100% - 180px)",
    "left": "10px",
    "top": "150px",
    "width": "288px"
   },
   "toc_section_display": true,
   "toc_window_display": true
  }
 },
 "nbformat": 4,
 "nbformat_minor": 2
}
